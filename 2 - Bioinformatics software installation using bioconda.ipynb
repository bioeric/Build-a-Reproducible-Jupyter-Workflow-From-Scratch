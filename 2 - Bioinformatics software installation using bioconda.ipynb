{
 "cells": [
  {
   "cell_type": "markdown",
   "metadata": {},
   "source": [
    "# Installing bioinformatics software with bioconda"
   ]
  },
  {
   "cell_type": "markdown",
   "metadata": {},
   "source": [
    "---"
   ]
  },
  {
   "cell_type": "markdown",
   "metadata": {},
   "source": [
    "## Setting up `bioconda`"
   ]
  },
  {
   "cell_type": "markdown",
   "metadata": {},
   "source": [
    "[Bioconda](https://bioconda.github.io/) is 'a channel for the conda package manager specializing in bioinformatics software. Bioconda consists of:\n",
    "\n",
    "- a repository of recipes hosted on GitHub\n",
    "- a build system that turns these recipes into conda packages\n",
    "- a repository of more than 3000 bioinformatics packages ready to use with conda install\n",
    "- Over 250 contributors that add, modify, update and maintain the recipes\n",
    "\n",
    "The conda package manager makes installing software a vastly more streamlined process. Conda is a combination of other package managers you may have encountered, such as pip, CPAN, CRAN, Bioconductor, apt-get, and homebrew. Conda is both language- and OS-agnostic, and can be used to install C/C++, Fortran, Go, R, Python, Java etc programs on Linux, Mac OSX, and Windows.\n",
    "\n",
    "Conda allows separation of packages into repositories, or channels. The main defaults channel has a large number of common packages. Users can add additional channels from which to install software packages not available in the defaults channel. Bioconda is one such channel specializing in bioinformatics software.\n",
    "\n",
    "Bioconda has been acknowledged by NATURE in their technology blog.\n",
    "\n",
    "Each package added to Bioconda also has a corresponding Docker BioContainer automatically created and uploaded to Quay.io.'\n",
    "\n",
    "\n",
    "See the ailable packages [here](https://bioconda.github.io/recipes.html)"
   ]
  },
  {
   "cell_type": "markdown",
   "metadata": {},
   "source": [
    "### 1. Install conda"
   ]
  },
  {
   "cell_type": "markdown",
   "metadata": {},
   "source": [
    "Bioconda requires the conda package manager to be installed. If you have an Anaconda Python installation, you already have it. Otherwise, the best way to install it is with the Miniconda package. The Python 3 version is recommended."
   ]
  },
  {
   "cell_type": "markdown",
   "metadata": {},
   "source": [
    "### 2. Set up channels"
   ]
  },
  {
   "cell_type": "markdown",
   "metadata": {},
   "source": [
    "After installing conda you will need to add the bioconda channel as well as the other channels bioconda depends on. It is important to add them in this order so that the priority is set correctly (that is, bioconda is highest priority).\n",
    "\n",
    "The conda-forge channel contains many general-purpose packages not already found in the defaults channel. The r channel is only included due to backward compatibility. It is not mandatory, but without the r channel packages compiled against R 3.3.1 might not work.\n",
    "\n",
    "    (conda config --add channels r)\n",
    "    conda config --add channels defaults\n",
    "    conda config --add channels conda-forge\n",
    "    conda config --add channels bioconda"
   ]
  },
  {
   "cell_type": "markdown",
   "metadata": {},
   "source": [
    "### 3. Install packages"
   ]
  },
  {
   "cell_type": "markdown",
   "metadata": {},
   "source": [
    "Browse the packages to see what’s available.\n",
    "\n",
    "Bioconda is now enabled, so any packages on the bioconda channel can be installed into the current conda environment:\n",
    "\n",
    "    conda install bwa\n",
    "\n",
    "Or a new environment can be created:\n",
    "\n",
    "    conda create -n aligners bwa bowtie hisat star"
   ]
  },
  {
   "cell_type": "markdown",
   "metadata": {},
   "source": [
    "---"
   ]
  },
  {
   "cell_type": "markdown",
   "metadata": {},
   "source": [
    "We will install three softwares: `bwa`, `samtools`, and `bcftools`."
   ]
  },
  {
   "cell_type": "code",
   "execution_count": 6,
   "metadata": {},
   "outputs": [
    {
     "name": "stdout",
     "output_type": "stream",
     "text": [
      "Fetching package metadata .................\n",
      "Solving package specifications: .\n",
      "\n",
      "# All requested packages already installed.\n",
      "# packages in environment at /Users/squiresrb/anaconda3:\n",
      "#\n",
      "bwa                       0.7.15                        1    bioconda\n"
     ]
    }
   ],
   "source": [
    "!conda install -y bwa"
   ]
  },
  {
   "cell_type": "code",
   "execution_count": 7,
   "metadata": {},
   "outputs": [
    {
     "name": "stdout",
     "output_type": "stream",
     "text": [
      "Fetching package metadata .................\n",
      "Solving package specifications: .\n",
      "\n",
      "# All requested packages already installed.\n",
      "# packages in environment at /Users/squiresrb/anaconda3:\n",
      "#\n",
      "samtools                  1.5                           1    bioconda\n"
     ]
    }
   ],
   "source": [
    "!conda install -y samtools"
   ]
  },
  {
   "cell_type": "code",
   "execution_count": 8,
   "metadata": {},
   "outputs": [
    {
     "name": "stdout",
     "output_type": "stream",
     "text": [
      "Fetching package metadata .................\n",
      "Solving package specifications: .\n",
      "\n",
      "# All requested packages already installed.\n",
      "# packages in environment at /Users/squiresrb/anaconda3:\n",
      "#\n",
      "bcftools                  1.6                           0    bioconda\n"
     ]
    }
   ],
   "source": [
    "!conda install -y bcftools"
   ]
  },
  {
   "cell_type": "markdown",
   "metadata": {},
   "source": [
    "---"
   ]
  },
  {
   "cell_type": "markdown",
   "metadata": {},
   "source": [
    "__Note__: Remember to restart the kernel in a notebook if you have made changes using conda."
   ]
  },
  {
   "cell_type": "code",
   "execution_count": null,
   "metadata": {},
   "outputs": [],
   "source": []
  }
 ],
 "metadata": {
  "kernelspec": {
   "display_name": "Python 3",
   "language": "python",
   "name": "python3"
  },
  "language_info": {
   "codemirror_mode": {
    "name": "ipython",
    "version": 3
   },
   "file_extension": ".py",
   "mimetype": "text/x-python",
   "name": "python",
   "nbconvert_exporter": "python",
   "pygments_lexer": "ipython3",
   "version": "3.6.3"
  }
 },
 "nbformat": 4,
 "nbformat_minor": 2
}
